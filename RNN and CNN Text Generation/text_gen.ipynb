{
  "nbformat": 4,
  "nbformat_minor": 0,
  "metadata": {
    "colab": {
      "provenance": []
    },
    "kernelspec": {
      "name": "python3",
      "display_name": "Python 3"
    }
  },
  "cells": [
    {
      "cell_type": "markdown",
      "metadata": {
        "id": "53ZwO7dzC8kj"
      },
      "source": [
        "[![Open In Colab](https://colab.research.google.com/assets/colab-badge.svg)](https://colab.research.google.com/github/pantelis-nlp/tutorial-nlp-notebooks/blob/main/rnn_language_model.ipynb)"
      ]
    },
    {
      "cell_type": "markdown",
      "source": [
        "## RNN for Next Character Prediction"
      ],
      "metadata": {
        "id": "ZGrOvo2xkTD4"
      }
    },
    {
      "cell_type": "markdown",
      "source": [
        "The goal of the model is to train a simple RNN for next character prediction. The model is trained by unrolling it over a sequences of 25 characters sampled from a source text, and at each time step it attempts to predict what the next character should be. Hence, for any given character, the model should output the next character in the text given its current hidden state. We can use such model, for example, to generate a sequence of character of specified length, as we will see later.\n",
        "\n",
        "In the following cell, we take in a text sample, this will serve us as dataset. Our vocabulary will be the set of all characters contained in the sample. We save the size of this set as our vocabulary size. Out of the character set, we construct two dictionaries to map character with indices and vice-versa. \n",
        "\n",
        "We declare the length of our window over which we will sample the input characters, the size of the the hidden state vector of the RNN, and our learning rate.\n",
        "\n",
        "The characters are passed passed through the model as one-hot encoded vector.\n",
        "The three RNN weight matrices are initialized with random numbers and the two bias vectors are inizialized with zeros. The first matrix (Wxh) maps the input x, of the size of the vocabulary, to a vector of the size of the hidden state. The second one (Whh) maps the hidden state vector to another vector of the same size. The last one (Why) maps a vector of the size of the hidden state to a vector of the size of the output vector y, which is the size of the vocabulary, given that we are trying to classify a character in our vocabulary.\n",
        "\n",
        "For the first two matrices Wxh and Whh, we declare a bias vector of the size of the hidden state. These three are used to calculate the value of the new hidden state. For matrix Why, we declare a bias of the size of the vocabulary, given that our ouput is of that size."
      ],
      "metadata": {
        "id": "gRXP_m6Fp9nT"
      }
    },
    {
      "cell_type": "code",
      "metadata": {
        "id": "qaJ0WRAhG0cA"
      },
      "source": [
        "data = 'Chios island is crescent or kidney shaped, 50 km (31 mi) long from north to south, and 29 km (18 mi) at its widest, covering an area of 842.289 km2 (325.210 sq mi).[2] The terrain is mountainous and arid, with a ridge of mountains running the length of the island. The two largest of these mountains, Pelineon (1,297 m (4,255 ft)) and Epos (1,188 m (3,898 ft)), are situated in the north of the island. The center of the island is divided between east and west by a range of smaller peaks, known as Provatas.'"
      ],
      "execution_count": null,
      "outputs": []
    },
    {
      "cell_type": "code",
      "metadata": {
        "id": "7fAPuTnEF8Xj",
        "outputId": "fc34297d-6153-429f-b265-ab033f9f33c1",
        "colab": {
          "base_uri": "https://localhost:8080/"
        }
      },
      "source": [
        "# see here for notation http://cs231n.stanford.edu/slides/2018/cs231n_2018_lecture10.pdf\n",
        "\"\"\"\n",
        "Minimal character-level Vanilla RNN model. Written by Andrej Karpathy (@karpathy)\n",
        "BSD License\n",
        "\"\"\"\n",
        "import numpy as np\n",
        "\n",
        "# data I/O\n",
        "#data = open('input.txt', 'r').read() # should be simple plain text file - you can use any (small) file in txt format from the web or type your own. \n",
        "\n",
        "chars = list(set(data))\n",
        "data_size, vocab_size = len(data), len(chars)\n",
        "print('data has %d characters, %d unique.' % (data_size, vocab_size))\n",
        "char_to_ix = { ch:i for i,ch in enumerate(chars) }\n",
        "ix_to_char = { i:ch for i,ch in enumerate(chars) }\n",
        "\n",
        "# hyperparameters\n",
        "hidden_size = 100 # size of hidden layer of neurons\n",
        "seq_length = 25 # number of steps to unroll the RNN for\n",
        "learning_rate = 1e-1\n",
        "\n",
        "# model parameters\n",
        "Wxh = np.random.randn(hidden_size, vocab_size)*0.01 # input to hidden\n",
        "Whh = np.random.randn(hidden_size, hidden_size)*0.01 # hidden to hidden\n",
        "Why = np.random.randn(vocab_size, hidden_size)*0.01 # hidden to output\n",
        "bh = np.zeros((hidden_size, 1)) # hidden bias\n",
        "by = np.zeros((vocab_size, 1)) # output bias"
      ],
      "execution_count": null,
      "outputs": [
        {
          "output_type": "stream",
          "name": "stdout",
          "text": [
            "data has 508 characters, 43 unique.\n"
          ]
        }
      ]
    },
    {
      "cell_type": "markdown",
      "source": [
        "The sample function below, takes in an input character index (seed_ix) from which it will obtain the one-hot representation of that character and hidden state (h), and generates n characters by unrolling the model n times.\n",
        "For each step it computes the new hidden states, and the output y. The output y is of the size of the vocabulary and, when passed through a softmax function, it returns the probabilities of each characters in the vocabulary being the output character. We do not strictly take the character with the highest probability but we sample a character from this probability distribution, allowing us more flexibility in generating the text. We use the predicted character, as the input to our next RNN unroll, and we return all characters generated as a list of their corresponding indices in the vocabulary. This list, can then be mapped to the corresponding characters and concatenated to form our generated output text."
      ],
      "metadata": {
        "id": "1y-WzK9O-1N1"
      }
    },
    {
      "cell_type": "code",
      "metadata": {
        "id": "IJM73XLoY0q3"
      },
      "source": [
        "def sample(h, seed_ix, n):\n",
        "  \"\"\" \n",
        "  sample a sequence of integers from the model \n",
        "  h is memory state, seed_ix is seed letter for first time step\n",
        "  \"\"\"\n",
        "  x = np.zeros((vocab_size, 1))\n",
        "  x[seed_ix] = 1\n",
        "  ixes = []\n",
        "  for t in range(n):\n",
        "    h = np.tanh(np.dot(Wxh, x) + np.dot(Whh, h) + bh) # compute new hidden state h_t\n",
        "    y = np.dot(Why, h) + by # compute output at time step t\n",
        "    p = np.exp(y) / np.sum(np.exp(y)) # Softmax of the output y\n",
        "    ix = np.random.choice(range(vocab_size), p=p.ravel())\n",
        "    x = np.zeros((vocab_size, 1))\n",
        "    x[ix] = 1\n",
        "    ixes.append(ix)\n",
        "  return ixes"
      ],
      "execution_count": null,
      "outputs": []
    },
    {
      "cell_type": "markdown",
      "source": [
        "### Loss Function\n",
        "\n",
        "In the loss function below, we train our model parameters on a specific sequence of characters and we return the gradients of all parameters together with the cross entropy loss.\n",
        "\n",
        "Forward Pass:\n",
        "\n",
        "In the forward pass for the loss function, we iterate through the characters of the input sequence. At each time step, we encode the character as a one hot vector and feed it to the RNN. Through this input and the previous hidden state we compute the hidden state update $h_t = tanh(W_{xh}x_t + W_{hh}h_{t-1} +b_h)$ and the output $y_t=W_{hy}h_t +b_y$. We then compute the probability distribution over the classes (characther index) through the softmax function and finally, we compute the cross-entropy loss. We repeat this process for all characters in the input sequence.\n",
        "\n",
        "Backward Pass:\n",
        "\n",
        "In the backwards pass we iterate through the sequence backwards to compute the gradients. To handle the calculations, the values of the inputs, hidden states, outputs, and softmax values, is saved in a dictionary at each time step in the forward pass. The first two lines in the backprop loop portion of the code we compute the gradient of loss with respect to the output (dy), through eq. 10.18 (Goodfellow)\n",
        "\n",
        "$(\\nabla_{o^{(t)}}L)_i=\\hat{y}^{(t)}-1_{i,y^{(t)}}$\n",
        "\n",
        "In the next two lines, we update the derivative of $W_{hy}$ (dWhy) and $b_{y}$ (dby) through the equations 10.22 and 10.24 (Goodfellow)\n",
        "\n",
        "$\\nabla_V L = \\sum_t \\nabla_{o^{(t)}}L h_t^T$\n",
        "\n",
        "$\\nabla_c L = \\sum_t \\nabla_{o^{(t)}}L$\n",
        "\n",
        "We then compute the gradient with respect to the hidden state $h^{(t)}$ (dh) at time t. During our first backprop iteration there is no next hidden state therefore the value of the equation is\n",
        "\n",
        "$\\nabla_{h^{(t)}}L = W^T (\\nabla_{o^{(t)}}L)$ (eq. 10.19 Goodfellow)\n",
        "\n",
        "For the next steps of the back propagation we add the recursive derivative terms to the equation, which results in\n",
        "\n",
        "$\\nabla_{h^{(t)}}L = W^T diag(1-(h^{(t+1)})^2)(\\nabla_{h^{(t+1)}}L) + W\n",
        "^T (\\nabla_{o^{(t)}}L)$ (eq. 10.21 Goodfellow)\n",
        "\n",
        "The values of $W^T diag(1-(h^{(t+1)})^2)(\\nabla_{h^{(t+1)}}L)$ are calculate and updated through the variables\n",
        "\n",
        "dhraw $=diag(1-(h^{(t+1)})^2)(\\nabla_{h^{(t+1)}}L)$ \n",
        "\n",
        "dhnext $=W_{hh}^T dhraw$\n",
        "\n",
        "The dhraw variable, computed for the current hidden state, instead of the next one, is used to compute the derivatives of $b_y$ (db), $W_{hh}$ (dWhh), and $W_{xh}$ (dWxh), through equations 10.23, 10.26, 10.28 (Goodfellow)\n",
        "\n",
        "$\\nabla_b L = \\sum_{t}diag(1-(h^{(t)})^2)(\\nabla_{h^{(t)}}L)$\n",
        "\n",
        "$\\nabla_{W} L = \\sum_{t}diag(1-(h^{(t)})^2) (\\nabla_{h^{(t)}}L) {x^{(t)}}^T$\n",
        "\n",
        "$\\nabla_{U} L = \\sum_{t}diag(1-(h^{(t)})^2) (\\nabla_{h^{(t)}}L) {h^{(t-1)}}^T$\n",
        "\n",
        "At the end of the function we return the derivatives, which will be used in our training loop to update the parameters."
      ],
      "metadata": {
        "id": "mtdcVphADV-m"
      }
    },
    {
      "cell_type": "code",
      "metadata": {
        "id": "XU236iBMYtWS"
      },
      "source": [
        "def lossFun(inputs, targets, hprev):\n",
        "  \"\"\"\n",
        "  inputs,targets are both list of integers.\n",
        "  hprev is Hx1 array of initial hidden state\n",
        "  returns the loss, gradients on model parameters, and last hidden state\n",
        "  \"\"\"\n",
        "\n",
        "  xs, hs, ys, ps = {}, {}, {}, {}\n",
        "  hs[-1] = np.copy(hprev)\n",
        "  loss = 0\n",
        "  # forward pass\n",
        "  for t in range(len(inputs)):\n",
        "    xs[t] = np.zeros((vocab_size,1)) # encode in 1-of-k representation\n",
        "    xs[t][inputs[t]] = 1\n",
        "    hs[t] = np.tanh(np.dot(Wxh, xs[t]) + np.dot(Whh, hs[t-1]) + bh) # hidden state\n",
        "    ys[t] = np.dot(Why, hs[t]) + by # unnormalized log probabilities for next chars\n",
        "    ps[t] = np.exp(ys[t]) / np.sum(np.exp(ys[t])) # probabilities for next chars\n",
        "    loss += -np.log(ps[t][targets[t],0]) # softmax (cross-entropy loss)\n",
        "  # backward pass: compute gradients going backwards\n",
        "  dWxh, dWhh, dWhy = np.zeros_like(Wxh), np.zeros_like(Whh), np.zeros_like(Why)\n",
        "  dbh, dby = np.zeros_like(bh), np.zeros_like(by)\n",
        "  dhnext = np.zeros_like(hs[0])\n",
        "  for t in reversed(range(len(inputs))):\n",
        "    dy = np.copy(ps[t])\n",
        "    dy[targets[t]] -= 1 # backprop into y. see http://cs231n.github.io/neural-networks-case-study/#grad if confused here\n",
        "    dWhy += np.dot(dy, hs[t].T)\n",
        "    dby += dy\n",
        "    dh = np.dot(Why.T, dy) + dhnext # backprop into h\n",
        "    dhraw = (1 - hs[t] * hs[t]) * dh # backprop through tanh nonlinearity\n",
        "    dbh += dhraw\n",
        "    dWxh += np.dot(dhraw, xs[t].T)\n",
        "    dWhh += np.dot(dhraw, hs[t-1].T)\n",
        "    dhnext = np.dot(Whh.T, dhraw)\n",
        "  for dparam in [dWxh, dWhh, dWhy, dbh, dby]:\n",
        "    np.clip(dparam, -5, 5, out=dparam) # clip to mitigate exploding gradients\n",
        "  return loss, dWxh, dWhh, dWhy, dbh, dby, hs[len(inputs)-1]"
      ],
      "execution_count": null,
      "outputs": []
    },
    {
      "cell_type": "markdown",
      "source": [
        "## Training and Testing the RNN"
      ],
      "metadata": {
        "id": "FtSPsxBNmfGs"
      }
    },
    {
      "cell_type": "markdown",
      "source": [
        "In the training cell, we start by declaring two variables, n and p. The variable n keeps track of the training iteration, while p tracks the starting index of our window over the text data provided. We generate samples from the text by sliding this window by one character at each iteration.\n",
        "\n",
        "In our training loop, at the first iteration, we initialize the hidden state as a vector of zeros. We then sample portions of the text data starting from the beginning and looking at windows of size 25, shifting our window by 1 character at every iteration. This portion of our text, which will be the input to our model, is then converted from characters to indices with the help of the dictionaries previously declared. If the window reaches the end of the sentence, the index p is reset to 0, as well as the hidden state. The target of the input is the portion of the sample obtained by shifting the window over by 1 character, since the output of the model for each input character should be the next character in the sequence. The target sequences are also encoded from characters to indices. We then pass the input, targets, and current hidden state to the loss function which returns us the loss, the derivatives of the weights, and the updated hidden state which will be used to train the next sample. The weight matricies and bias vectors are then updated through the AdaGrad algorithm thanks to the derivatives calculated, improving the model performance. This process can be repeated for as many iteration as needed until the loss converges.\n",
        "\n",
        "Every 1000 training iteration, we test the model by providing it with the first character of the current input sequence, the current hidden state of the model, and the number of times we want to unroll the model. In our case it is set to 200, meaning the model will produce 200 character that it thinks will follow from the input character, given the current hidden state of the model. We will see that the model will gradually start generating better and better sequences of characters the more training iteration it goes through. However, we can also notice that the more we train the model, the more it start overfitting the dataset, which causes it to produce only sentences that are very similare to the input text which we provide it. To generate more text more robustly, we would need a lot more training data, and a much bigger model."
      ],
      "metadata": {
        "id": "fW3gw5e1upYa"
      }
    },
    {
      "cell_type": "code",
      "metadata": {
        "id": "qkOdfAJPY81L",
        "colab": {
          "base_uri": "https://localhost:8080/"
        },
        "outputId": "448e58f1-7b96-47e8-efd3-05f5daf70dcb"
      },
      "source": [
        "n, p = 0, 0\n",
        "mWxh, mWhh, mWhy = np.zeros_like(Wxh), np.zeros_like(Whh), np.zeros_like(Why)\n",
        "mbh, mby = np.zeros_like(bh), np.zeros_like(by) # memory variables for Adagrad\n",
        "smooth_loss = -np.log(1.0/vocab_size)*seq_length # loss at iteration 0\n",
        "\n",
        "while n <= 25000:\n",
        "  # prepare inputs (we're sweeping from left to right in steps seq_length long)\n",
        "  if p+seq_length+1 >= len(data) or n == 0: \n",
        "    hprev = np.zeros((hidden_size,1)) # reset RNN memory\n",
        "    p = 0 # go from start of data\n",
        "  inputs = [char_to_ix[ch] for ch in data[p:p+seq_length]]\n",
        "  targets = [char_to_ix[ch] for ch in data[p+1:p+seq_length+1]]\n",
        "\n",
        "  # sample from the model now and then\n",
        "  if n % 1000 == 0:\n",
        "    sample_ix = sample(hprev, inputs[0], 200)\n",
        "    txt = ''.join(ix_to_char[ix] for ix in sample_ix)\n",
        "    print('----\\n %s \\n----' % (txt, ))\n",
        "\n",
        "  # forward seq_length characters through the net and fetch gradient\n",
        "  loss, dWxh, dWhh, dWhy, dbh, dby, hprev = lossFun(inputs, targets, hprev)\n",
        "  smooth_loss = smooth_loss * 0.999 + loss * 0.001\n",
        "  if n % 1000 == 0: print('iter %d, loss: %f' % (n, smooth_loss)) # print progress\n",
        "  \n",
        "  # perform parameter update with Adagrad\n",
        "  for param, dparam, mem in zip([Wxh, Whh, Why, bh, by], \n",
        "                                [dWxh, dWhh, dWhy, dbh, dby], \n",
        "                                [mWxh, mWhh, mWhy, mbh, mby]):\n",
        "    mem += dparam * dparam\n",
        "    param += -learning_rate * dparam / np.sqrt(mem + 1e-8) # adagrad update\n",
        "\n",
        "  p += seq_length # move data pointer\n",
        "  n += 1 # iteration counter "
      ],
      "execution_count": null,
      "outputs": [
        {
          "output_type": "stream",
          "name": "stdout",
          "text": [
            "----\n",
            " ]5l9Pdl3)n]Eawqit.t()pqf4hdf5.emdE7bCTs.2[c4.,[ itg8h3e93bqt1reiC0aP)rrto,sP75P wt q,h41)uamas)p21,s15n4a1n3bCw180[nyEyp)s.s.imrmT,t,oeq.r]P4toEh3m8Ps5nk [k9348mi3hpe9s5ugqbhm4n,r5p489(2,0C(d.npc).qst \n",
            "----\n",
            "iter 0, loss: 94.029999\n",
            "----\n",
            " hios oshe nnd, Perween pis ritwath wrheon aoown, ay a r0t ot d,e, ne ne rtee the s (1 wn, (4, 5T8by a loss, 9erthlam Peindn 9hi pon and apes Prt1 fe  asdtheras and y m (3,8m8 ftwien easl sidna oun tu  \n",
            "----\n",
            "iter 1000, loss: 64.996564\n",
            "----\n",
            " hid arlert an lars, (321,.[5] mobnt int,,. m liof kiot ors arlaid Pe(3m wslery th toasia oe Theid irlanins,, Then lof se) cem (ranped Pe soan loutlan lof ti) te nte the thon tou souniou twanila yof la \n",
            "----\n",
            "iter 2000, loss: 35.330101\n",
            "----\n",
            " hiors and rr kid, aons angeas The thit of s8and is crenor (r, mousland wistaerisatland, a liny a tha ing soum inithe nous fidperlane s wered, dive of twand is (1,18257 mklelft) f er ing ar i) at aris  \n",
            "----\n",
            "iter 3000, loss: 26.437240\n",
            "----\n",
            " hios islant is crescethe rocrlang sh teridland is the lens, The two laperth of these mountar rainnis aroutport. 81 intais mouthe anrw rretlend insd ent island, Peog tedinecr kcethe rounnd islong ort a \n",
            "----\n",
            "iter 4000, loss: 13.113043\n",
            "----\n",
            " hios island is crescent or kidney shaped, 50 km (31 mi) long frratge of the island perraino sst noland is dr, and The cedn wider2,atg ft) anoft ar and west by a range ng shascenitwd byd Epos (1,188 m  \n",
            "----\n",
            "iter 5000, loss: 6.300943\n",
            "----\n",
            " hirs aknidge of mountains running the length of the island is divided between east angpea dhe in th wn ns km kn ano The two largest of these mountains, Pelineon (1,297 m (4,255 ft)apd er kinn rr andth \n",
            "----\n",
            "iter 6000, loss: 3.234717\n",
            "----\n",
            " hious and arid, widea long corth, rangth of tpesid (31 8.259 k1,, (32 (4m bgtwerid andpere nd Prid, with a ridge d, The two uated is ft). rginte ri), and Eeof corthe island. The in the north of the is \n",
            "----\n",
            "iter 7000, loss: 1.849456\n",
            "----\n",
            " hios islapth aing ao shcennd. The center of the island is divided between east and west belaent or kid.[2] The terrain is mountainounk, st) at its widest, civerinrran ar aprin (18 mi) ning ated island \n",
            "----\n",
            "iter 8000, loss: 3.108445\n",
            "----\n",
            " hios island is crescent or kidney shaped, 50 km (31 mi) long from north to south, and 29 km (18 mi) at its widest, covering an area of 842.289 km2 (325.210 sq mi).[2] The terrain is mountainous and ar \n",
            "----\n",
            "iter 9000, loss: 1.654817\n",
            "----\n",
            " hios island is crescinn an ar in the north of the island. The center of the island. The two larm kre st of these molnteate widge of mountains running the length of the island is divided between east a \n",
            "----\n",
            "iter 10000, loss: 1.001365\n",
            "----\n",
            " hios island is crescent or kidney shaped, 50 km (31 mi) long from north to soft), rgesthe rge lor tength of the island. The two largest of these mountains, Pelineon (1,297 m (4,255 ft)) and Epos (1,18 \n",
            "----\n",
            "iter 11000, loss: 0.702052\n",
            "----\n",
            " wios island is crescent oro mountwinge south, dnd 29 km (18 mi) atland iy divided between east and west by a range of smaller peaks, known as Pne shateats, Penid draped, 50 km (31 mi) long from north  \n",
            "----\n",
            "iter 12000, loss: 2.135974\n",
            "----\n",
            " hios island is crescent or kidney shapeas Prand in area of 842.289 km2 (325.210 sq mi).[2] The terrain is mountainous and arid, with a ridge of mountains running the bent, Pelineon (1,897 m c4vi)ed Ef \n",
            "----\n",
            "iter 13000, loss: 1.132397\n",
            "----\n",
            " hios island is crescent or kidnend iThe at a range of she island. T0 kiuut ins, Pelineon (1,297 m (4,255 ft)) and Epos (1,18297 m (4,255 25.215 m (4,255 ft)) and aris, (318210 she the or kidney shaped \n",
            "----\n",
            "iter 14000, loss: 0.712292\n",
            "----\n",
            " hios island is crescent or kidney shaped, 50 km (31 mi) long from north te is 29 km (18 mi) at its widest, coverm and aen di kee siunte ngeasth aing of the island is divided between east and west by a \n",
            "----\n",
            "iter 15000, loss: 0.531333\n",
            "----\n",
            " hios island is crescent or kidney shaped, 50 km (31 mi) anout and arid, with a ridge of mountains running the length of the island. The two largest of these mountainsa with anod int centeral, (1 2Th g \n",
            "----\n",
            "iter 16000, loss: 0.444045\n",
            "----\n",
            " hios island is creslane is crescent or kidney shaped, 50 km (31 mie is and is dpe isuthe north of the island. The center of the island. The two largest of these mountains, Pelineon (1,297 m (4,255 ft) \n",
            "----\n",
            "iter 17000, loss: 0.922058\n",
            "----\n",
            " hios island is crescent or kidney shaped, 50 km (31 mi) long from north to south, and 29 km (18 mi) at its widest, covering an area of 842.289 km2 (325.210 sq mi).[2] The terrain is mountainous and ar \n",
            "----\n",
            "iter 18000, loss: 0.604279\n",
            "----\n",
            " hios island is crescent or kidney shaped, 50 km (328d and m0 kit, sountain is mountainous and arid, with a ridge of mountains running the length of the island. The two largest of these mountains, Peli \n",
            "----\n",
            "iter 19000, loss: 0.448384\n",
            "----\n",
            " hios island is crescent or kidney shaped, 50 km (31 mi) long from north to south, and 29 km (18 mi) at its widest, covering an area of 842.289 km2 (325.210 sq mi).[2] The terrain is mountainous and ar \n",
            "----\n",
            "iter 20000, loss: 0.367713\n",
            "----\n",
            " hios island is crescent or kidney shaped, 50 km (3,898 ft)), are sislaresth ora inge of mount) erthean area oof the island, The two largerinnd ard widest, covering ino st km ering an area of 842.289 k \n",
            "----\n",
            "iter 21000, loss: 0.322961\n",
            "----\n",
            " hios island is crescent or kidney shaped, 50 km (31 mi) long from north to south, and 29 km (18 mi) at its widest, covering an area of 842.289 km2 (325.210 sq mi).[2] The terrain is mountainous and ar \n",
            "----\n",
            "iter 22000, loss: 0.292694\n",
            "----\n",
            " hios island is crescent or kidney shaped, 50 km (31 mi) long from north to south, and 29 km (18 mi) at its widest, covering an area of 842.289 km2 (325.210 sq mi).[2] The terrain is mountainous and ar \n",
            "----\n",
            "iter 23000, loss: 0.294867\n",
            "----\n",
            " hios island is crescent or kidney shaped, 50 km (31 mi) long from north to south, and 29 km (18 mi) at its widest, covering an area of 842.289 km2 (325.210 sq mi).[2] The terrain is mountainous and ar \n",
            "----\n",
            "iter 24000, loss: 0.279329\n",
            "----\n",
            " hiros (ou lins area iof the tweeithe north and, (18 mi) long from north to south, and 29 km (18 mi) at its widest, covering an area of 842.28 m (18 mi) at its widest, covering an area of 842.289 km2 ( \n",
            "----\n",
            "iter 25000, loss: 0.239663\n"
          ]
        }
      ]
    },
    {
      "cell_type": "markdown",
      "source": [
        "# CNN for Next-Character Prediction"
      ],
      "metadata": {
        "id": "44VqloJIj30i"
      }
    },
    {
      "cell_type": "code",
      "source": [
        "import torch\n",
        "from torch import nn\n",
        "from torch.utils.data import DataLoader, TensorDataset\n",
        "from torchvision import datasets\n",
        "from torchvision.transforms import ToTensor\n",
        "import torch.nn.functional as F"
      ],
      "metadata": {
        "id": "Afk8LNZf2C7z"
      },
      "execution_count": null,
      "outputs": []
    },
    {
      "cell_type": "markdown",
      "source": [
        "#### Data Processing"
      ],
      "metadata": {
        "id": "pvsf0pquKOiN"
      }
    },
    {
      "cell_type": "code",
      "source": [
        "sample_text = 'Chios island is crescent or kidney shaped, 50 km (31 mi) long from north to south, and 29 km (18 mi) at its widest, covering an area of 842.289 km2 (325.210 sq mi).[2] The terrain is mountainous and arid, with a ridge of mountains running the length of the island. The two largest of these mountains, Pelineon (1,297 m (4,255 ft)) and Epos (1,188 m (3,898 ft)), are situated in the north of the island. The center of the island is divided between east and west by a range of smaller peaks, known as Provatas.'"
      ],
      "metadata": {
        "id": "FIdWKpobL2UX"
      },
      "execution_count": null,
      "outputs": []
    },
    {
      "cell_type": "code",
      "source": [
        "chars = list(set(sample_text))\n",
        "data_size, vocab_size = len(sample_text), len(chars)\n",
        "print('data has %d characters, %d unique.' % (data_size, vocab_size))\n",
        "char_to_ix = { ch:i for i,ch in enumerate(chars) }\n",
        "ix_to_char = { i:ch for i,ch in enumerate(chars) }"
      ],
      "metadata": {
        "colab": {
          "base_uri": "https://localhost:8080/"
        },
        "id": "lIfEfuoZGYBb",
        "outputId": "65067c57-68ae-4103-a827-5e7f69b04cd2"
      },
      "execution_count": null,
      "outputs": [
        {
          "output_type": "stream",
          "name": "stdout",
          "text": [
            "data has 508 characters, 43 unique.\n"
          ]
        }
      ]
    },
    {
      "cell_type": "code",
      "source": [
        "seq_length = 25\n",
        "n_samples = len(sample_text) - seq_length\n",
        "\n",
        "# Generate Samples from Sample Text (sliding window size = 25)\n",
        "X = []\n",
        "y = []\n",
        "for i in range(n_samples):\n",
        "    sample = [char_to_ix[ch] for ch in sample_text[i : i + seq_length]]\n",
        "    target = char_to_ix[sample_text[i + seq_length]]\n",
        "    X += [sample]\n",
        "    y += [target]\n",
        "\n",
        "# Train Test Split\n",
        "training_size = int(0.9 * len(X))\n",
        "\n",
        "X_train = X[:training_size]\n",
        "y_train = y[:training_size]\n",
        "\n",
        "X_test = X[training_size:]\n",
        "y_test = y[training_size:]\n",
        "\n",
        "# One-hot Encoding\n",
        "X_train = F.one_hot(torch.tensor(X_train), num_classes=vocab_size)\n",
        "X_train = X_train.transpose(1, 2)\n",
        "\n",
        "X_test = F.one_hot(torch.tensor(X_test), num_classes=vocab_size)\n",
        "X_test = X_test.transpose(1, 2)\n",
        "\n",
        "y_train = torch.tensor(y_train)\n",
        "y_test = torch.tensor(y_test)\n",
        "\n",
        "print(X_train.shape, X_test.shape, y_train.shape, y_test.shape)"
      ],
      "metadata": {
        "colab": {
          "base_uri": "https://localhost:8080/"
        },
        "id": "y1CijnBgKLyV",
        "outputId": "397db7f0-8c01-412f-c993-216742d5ba51"
      },
      "execution_count": null,
      "outputs": [
        {
          "output_type": "stream",
          "name": "stdout",
          "text": [
            "torch.Size([434, 43, 25]) torch.Size([49, 43, 25]) torch.Size([434]) torch.Size([49])\n"
          ]
        }
      ]
    },
    {
      "cell_type": "code",
      "source": [
        "# Create PyTorch Dataset\n",
        "train_dataset = TensorDataset(X_train, y_train)\n",
        "test_dataset = TensorDataset(X_test, y_test)"
      ],
      "metadata": {
        "id": "l7nqfK4QNPGa"
      },
      "execution_count": null,
      "outputs": []
    },
    {
      "cell_type": "code",
      "source": [
        "# Build Dataloader\n",
        "trainDataLoader = DataLoader(train_dataset,batch_size=32,shuffle=True)\n",
        "testDataLoader = DataLoader(test_dataset,batch_size=1,shuffle=False)"
      ],
      "metadata": {
        "id": "W5EjZGkdRchR"
      },
      "execution_count": null,
      "outputs": []
    },
    {
      "cell_type": "markdown",
      "source": [
        "#### Model Architecture"
      ],
      "metadata": {
        "id": "49McGhfrYgh8"
      }
    },
    {
      "cell_type": "code",
      "source": [
        "class CharCNN(nn.Module):\n",
        "    def __init__(self, seq_length, vocab_size):\n",
        "        super(CharCNN, self).__init__()\n",
        "        self.conv1 = nn.Conv1d(in_channels=vocab_size, out_channels=128, kernel_size=5, padding=2)\n",
        "        self.linear = nn.Linear(128, vocab_size)\n",
        "\n",
        "    def forward(self, x):\n",
        "        x = F.relu(self.conv1(x))\n",
        "        x = F.max_pool1d(x, kernel_size=seq_length).flatten(start_dim=1)\n",
        "        x = self.linear(x) \n",
        "        return x # No need to pass softmax, CE handles it with the max"
      ],
      "metadata": {
        "id": "Bu1laRE_UCdL"
      },
      "execution_count": null,
      "outputs": []
    },
    {
      "cell_type": "code",
      "source": [
        "model = CharCNN(seq_length=seq_length, vocab_size=vocab_size)"
      ],
      "metadata": {
        "id": "Bz33fF-nenZu"
      },
      "execution_count": null,
      "outputs": []
    },
    {
      "cell_type": "code",
      "source": [
        "from torchsummary import summary\n",
        "\n",
        "summary(model, (vocab_size, seq_length))"
      ],
      "metadata": {
        "colab": {
          "base_uri": "https://localhost:8080/"
        },
        "id": "S7z6b3RIad34",
        "outputId": "0809f267-faae-4b6e-f38e-2814d2e88698"
      },
      "execution_count": null,
      "outputs": [
        {
          "output_type": "stream",
          "name": "stdout",
          "text": [
            "----------------------------------------------------------------\n",
            "        Layer (type)               Output Shape         Param #\n",
            "================================================================\n",
            "            Conv1d-1              [-1, 128, 25]          27,648\n",
            "            Linear-2                   [-1, 43]           5,547\n",
            "================================================================\n",
            "Total params: 33,195\n",
            "Trainable params: 33,195\n",
            "Non-trainable params: 0\n",
            "----------------------------------------------------------------\n",
            "Input size (MB): 0.00\n",
            "Forward/backward pass size (MB): 0.02\n",
            "Params size (MB): 0.13\n",
            "Estimated Total Size (MB): 0.16\n",
            "----------------------------------------------------------------\n"
          ]
        }
      ]
    },
    {
      "cell_type": "markdown",
      "source": [
        "#### Loss, Optimizer, and Scheduler"
      ],
      "metadata": {
        "id": "IQv13-_eudB7"
      }
    },
    {
      "cell_type": "code",
      "source": [
        "import torch.optim as optim\n",
        "\n",
        "# Loss\n",
        "criterion = nn.CrossEntropyLoss()\n",
        "\n",
        "# Optimizer\n",
        "lr = 0.1\n",
        "momentum = 0.9\n",
        "milestones = [35, 45]  \n",
        "gamma = 0.1\n",
        "\n",
        "optimizer = optim.SGD(model.parameters(), lr=lr, momentum=momentum)\n",
        "scheduler = optim.lr_scheduler.MultiStepLR(optimizer=optimizer, milestones=milestones, gamma=gamma) # decresing lr by a factor of gamma at each milestone"
      ],
      "metadata": {
        "id": "YNkbBD6h5kNI"
      },
      "execution_count": null,
      "outputs": []
    },
    {
      "cell_type": "markdown",
      "source": [
        "#### Train Model"
      ],
      "metadata": {
        "id": "I4IgoQH885uV"
      }
    },
    {
      "cell_type": "code",
      "source": [
        "train_loss_history = []\n",
        "test_loss_history = []\n",
        "train_acc_history = []\n",
        "test_acc_history = []\n",
        "\n",
        "EPOCHS = 50\n",
        "\n",
        "for epoch in range(1, EPOCHS + 1):\n",
        "    train_loss = 0.0\n",
        "    test_loss = 0.0\n",
        "    train_acc = 0.0\n",
        "    test_acc = 0.0\n",
        "\n",
        "    model.train()\n",
        "    for i, data in enumerate(trainDataLoader):\n",
        "        inputs, labels = data\n",
        "        optimizer.zero_grad()\n",
        "        output = model(inputs.float())\n",
        "        _, predictions = torch.max(output, 1)\n",
        "        fit = criterion(output,labels)\n",
        "        fit.backward()\n",
        "        optimizer.step()\n",
        "        train_loss += fit.item()\n",
        "        train_acc += torch.sum(predictions == labels.data)\n",
        "\n",
        "    model.eval()\n",
        "    for i, data in enumerate(testDataLoader):\n",
        "        with torch.no_grad():\n",
        "            inputs, labels = data\n",
        "            output = model(inputs.float())\n",
        "            _, predictions = torch.max(output, 1)\n",
        "            fit = criterion(output,labels)\n",
        "            test_loss += fit.item()\n",
        "            test_acc += torch.sum(predictions == labels.data)\n",
        "\n",
        "    scheduler.step()\n",
        "    \n",
        "    train_acc = (train_acc.float() / len(trainDataLoader.dataset)).item()\n",
        "    test_acc = (test_acc.float() / len(testDataLoader.dataset)).item()\n",
        "    train_acc_history += [train_acc]\n",
        "    test_acc_history += [test_acc]\n",
        "\n",
        "    train_loss = train_loss/len(trainDataLoader)\n",
        "    test_loss = test_loss/len(testDataLoader)\n",
        "    train_loss_history += [train_loss]\n",
        "    test_loss_history += [test_loss]\n",
        "\n",
        "    if epoch % 5 == 0:\n",
        "        print('Epoch %s, Train loss %s, Test loss %s, Train acc %s, Test acc %s'%(epoch, train_loss, test_loss, train_acc, test_acc))"
      ],
      "metadata": {
        "colab": {
          "base_uri": "https://localhost:8080/"
        },
        "id": "owWW9Mr059D1",
        "outputId": "7a633d5a-af10-4663-bebe-06b97fc192b1"
      },
      "execution_count": null,
      "outputs": [
        {
          "output_type": "stream",
          "name": "stdout",
          "text": [
            "Epoch 5, Train loss 3.005699021475656, Test loss 3.245922881729749, Train acc 0.18433180451393127, Test acc 0.18367347121238708\n",
            "Epoch 10, Train loss 2.607136913708278, Test loss 3.2114069023910834, Train acc 0.2142857164144516, Test acc 0.18367347121238708\n",
            "Epoch 15, Train loss 2.1507206644330705, Test loss 3.7507688780220185, Train acc 0.3041474521160126, Test acc 0.18367347121238708\n",
            "Epoch 20, Train loss 1.8319541726793562, Test loss 3.820163988337225, Train acc 0.4124423861503601, Test acc 0.18367347121238708\n",
            "Epoch 25, Train loss 1.1929408482142858, Test loss 3.9778963777483725, Train acc 0.6105991005897522, Test acc 0.20408163964748383\n",
            "Epoch 30, Train loss 0.8133836218288967, Test loss 5.069316960377049, Train acc 0.7811059951782227, Test acc 0.18367347121238708\n",
            "Epoch 35, Train loss 0.5161472686699459, Test loss 5.4633922067908, Train acc 0.8548387289047241, Test acc 0.18367347121238708\n",
            "Epoch 40, Train loss 0.25359049439430237, Test loss 5.893345626755332, Train acc 0.9953917264938354, Test acc 0.18367347121238708\n",
            "Epoch 45, Train loss 0.2263396829366684, Test loss 5.979209894048316, Train acc 0.9953917264938354, Test acc 0.18367347121238708\n",
            "Epoch 50, Train loss 0.22150683509452002, Test loss 5.969410904977774, Train acc 0.9953917264938354, Test acc 0.18367347121238708\n"
          ]
        }
      ]
    },
    {
      "cell_type": "markdown",
      "source": [
        "Reached 100% training accuracy but test accuracy remains very low. We could have trained for less, but wanted to show that the model has fully memorized the data in the next cell, when we generate the text. Again, given the very small amount of data we are training and the limited scale of the model, the performance on unseen data is very low and does not improve the more we train our model. It actually gets worse. So, just as saud before for the RNN, we would need a lot more training data and a bigger model to improve the performance."
      ],
      "metadata": {
        "id": "Cz03rV0zFvxH"
      }
    },
    {
      "cell_type": "code",
      "source": [
        "import matplotlib.pyplot as plt\n",
        "\n",
        "plt.plot(train_loss_history)\n",
        "plt.plot(test_loss_history)\n",
        "plt.legend([\"train\", \"val\"])\n",
        "plt.title(\"Loss\")\n",
        "plt.xlabel(\"Epoch\")\n",
        "plt.ylabel(\"Loss\")\n",
        "plt.show()"
      ],
      "metadata": {
        "colab": {
          "base_uri": "https://localhost:8080/",
          "height": 295
        },
        "id": "yzdYz6l8HQn8",
        "outputId": "5f0c8bd1-26e9-466b-f9cf-86b46938bb2b"
      },
      "execution_count": null,
      "outputs": [
        {
          "output_type": "display_data",
          "data": {
            "text/plain": [
              "<Figure size 432x288 with 1 Axes>"
            ],
            "image/png": "[encoded data removed]"
          },
          "metadata": {
            "needs_background": "light"
          }
        }
      ]
    },
    {
      "cell_type": "code",
      "source": [
        "plt.plot(train_acc_history)\n",
        "plt.plot(test_acc_history)\n",
        "plt.legend([\"train\", \"val\"])\n",
        "plt.title(\"Accuracy\")\n",
        "plt.xlabel(\"Epoch\")\n",
        "plt.ylabel(\"Accuracy\")\n",
        "plt.show()"
      ],
      "metadata": {
        "colab": {
          "base_uri": "https://localhost:8080/",
          "height": 295
        },
        "id": "bvTYV3mwHfbO",
        "outputId": "c30bcc4b-139d-405e-c366-77a576aee6c2"
      },
      "execution_count": null,
      "outputs": [
        {
          "output_type": "display_data",
          "data": {
            "text/plain": [
              "<Figure size 432x288 with 1 Axes>"
            ],
            "image/png": "[encoded data removed]"
          },
          "metadata": {
            "needs_background": "light"
          }
        }
      ]
    },
    {
      "cell_type": "markdown",
      "source": [
        "#### Generate Next 200 Characters from Input Sequence of 25 Characters"
      ],
      "metadata": {
        "id": "ygbm8INu9AdF"
      }
    },
    {
      "cell_type": "code",
      "source": [
        "def generate_text(test_sample, n):\n",
        "    input_text = test_sample\n",
        "    generated_text = ''\n",
        "    with torch.no_grad():\n",
        "        for i in range(n):\n",
        "            x_test = torch.tensor([[char_to_ix[ch] for ch in input_text]])\n",
        "            x_test = F.one_hot(x_test, num_classes=vocab_size)\n",
        "            x_test = x_test.transpose(1, 2)\n",
        "            output = model(x_test.float())\n",
        "            _, predictions = torch.max(output, 1)\n",
        "            char_pred = ix_to_char[predictions[0].item()]\n",
        "            generated_text += char_pred\n",
        "            input_text = input_text[1:] + char_pred\n",
        "\n",
        "    return test_sample + generated_text"
      ],
      "metadata": {
        "id": "i2iH9KhKvQ1I"
      },
      "execution_count": null,
      "outputs": []
    },
    {
      "cell_type": "code",
      "source": [
        "test_sample = 'she walked down the steps'\n",
        "print(generate_text(test_sample, 200))\n",
        "\n",
        "test_sample = 'Chios island is crescent ' \n",
        "print(generate_text(test_sample, 200))"
      ],
      "metadata": {
        "colab": {
          "base_uri": "https://localhost:8080/"
        },
        "id": "wK9XmcvxvtQA",
        "outputId": "f2c9acc0-1c02-4efb-8bf0-a5d7d0c039ee"
      },
      "execution_count": null,
      "outputs": [
        {
          "output_type": "stream",
          "name": "stdout",
          "text": [
            "she walked down the steps          r o ii d a d oes aod kides  os  ,      ,, an eao id add sif to ir o s oe ess and wekik wiee (th of thes sand seesi ei e ioo  rok ksnnn nnns h h he moes rrirs rrano iountain  n  ng the srrnae\n",
            "Chios island is crescent or kidney shaped, 50 km (31 mi) long from north to south, and 29 km (18 mi) at its widest, covering an area of 8422289 km2 (325.210 sq mi).[2] The terrain is mountainous and arid, with a ridge of moun\n"
          ]
        }
      ]
    },
    {
      "cell_type": "markdown",
      "source": [
        "We can see that our model has fully memorized the training data, and if given the exact first 25 characters of the text sample it will generate the rest on its own. However, it generalizes poorly on unseen data, and is capable of producing very few word from english, the rest being just gibberish."
      ],
      "metadata": {
        "id": "7tyr_YZ3EvxV"
      }
    },
    {
      "cell_type": "code",
      "source": [],
      "metadata": {
        "id": "rjNDtB7eFsZS"
      },
      "execution_count": null,
      "outputs": []
    }
  ]
}